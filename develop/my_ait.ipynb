{
 "cells": [
  {
   "cell_type": "markdown",
   "metadata": {
    "deletable": false,
    "editable": false
   },
   "source": [
    "# AIT Development notebook"
   ]
  },
  {
   "cell_type": "markdown",
   "metadata": {
    "deletable": false,
    "editable": false
   },
   "source": [
    "## notebook of structure"
   ]
  },
  {
   "cell_type": "markdown",
   "metadata": {
    "deletable": false,
    "editable": false
   },
   "source": [
    "| #  | Name                                               | cells | for_dev | edit               | description                                                                |\n",
    "|----|----------------------------------------------------|-------|---------|--------------------|----------------------------------------------------------------------------|\n",
    "| 1  | [Environment detection](##1-Environment-detection) | 1     | No      | uneditable         | detect whether the notebook are invoked for packaging or in production     |\n",
    "| 2  | [Preparing AIT SDK](##2-Preparing-AIT-SDK)         | 1     | Yes     | uneditable         | download and install AIT SDK                                               |\n",
    "| 3  | [Dependency Management](##3-Dependency-Management) | 3     | Yes     | required(cell #2)  | generate requirements.txt for Docker container                             |\n",
    "| 4  | [Importing Libraries](##4-Importing-Libraries)     | 2     | Yes     | required(cell #1)  | import required libraries                                                  |\n",
    "| 5  | [Manifest Generation](##5-Manifest-Generation)     | 1     | Yes     | required           | generate AIT Manifest                                                      |\n",
    "| 6  | [Prepare for the Input](##6-Prepare-for-the-Input) | 1     | Yes     | required           | generate AIT Input JSON (inventory mapper)                                 |\n",
    "| 7  | [Initialization](##7-Initialization)               | 1     | No      | uneditable         | initialization for AIT execution                                           |\n",
    "| 8  | [Function definitions](##8-Function-definitions)   | N     | No      | required           | define functions invoked from Main area.<br> also define output functions. |\n",
    "| 9  | [Main Algorithms](##9-Main-Algorithms)             | 1     | No      | required           | area for main algorithms of an AIT                                         |\n",
    "| 10 | [Entry point](##10-Entry-point)                    | 1     | No      | uneditable         | an entry point where Qunomon invoke this AIT from here                     |\n",
    "| 11 | [License](##11-License)                            | 1     | Yes     | required           | generate license information                                               |\n",
    "| 12 | [Deployment](##12-Deployment)                      | 1     | Yes     | uneditable         | convert this notebook to the python file for packaging purpose             |"
   ]
  },
  {
   "cell_type": "markdown",
   "metadata": {
    "deletable": false,
    "editable": false
   },
   "source": [
    "## notebook template revision history"
   ]
  },
  {
   "cell_type": "markdown",
   "metadata": {
    "deletable": false,
    "editable": false
   },
   "source": [
    "1.0.1 2020/10/21\n",
    "\n",
    "* add revision history\n",
    "* separate `create requirements and pip install` editable and noeditable\n",
    "* separate `import` editable and noeditable\n",
    "\n",
    "1.0.0 2020/10/12\n",
    "\n",
    "* new cerarion"
   ]
  },
  {
   "cell_type": "markdown",
   "metadata": {
    "deletable": false,
    "editable": false
   },
   "source": [
    "## body"
   ]
  },
  {
   "cell_type": "markdown",
   "metadata": {
    "deletable": false,
    "editable": false
   },
   "source": [
    "### #1 Environment detection"
   ]
  },
  {
   "cell_type": "markdown",
   "metadata": {
    "deletable": false,
    "editable": false
   },
   "source": [
    "[uneditable]"
   ]
  },
  {
   "cell_type": "code",
   "execution_count": 1,
   "metadata": {
    "deletable": false,
    "editable": false
   },
   "outputs": [],
   "source": [
    "# Determine whether to start AIT or jupyter by startup argument\n",
    "import sys\n",
    "is_ait_launch = (len(sys.argv) == 2)"
   ]
  },
  {
   "cell_type": "markdown",
   "metadata": {
    "deletable": false,
    "editable": false
   },
   "source": [
    "### #2 Preparing AIT SDK"
   ]
  },
  {
   "cell_type": "markdown",
   "metadata": {
    "deletable": false,
    "editable": false
   },
   "source": [
    "[uneditable]"
   ]
  },
  {
   "cell_type": "code",
   "execution_count": 2,
   "metadata": {
    "deletable": false,
    "editable": false
   },
   "outputs": [
    {
     "name": "stdout",
     "output_type": "stream",
     "text": [
      "\u001b[33mWARNING: Running pip as the 'root' user can result in broken permissions and conflicting behaviour with the system package manager, possibly rendering your system unusable. It is recommended to use a virtual environment instead: https://pip.pypa.io/warnings/venv. Use the --root-user-action option if you know what you are doing and want to suppress this warning.\u001b[0m\u001b[33m\n",
      "\u001b[0m\u001b[33mWARNING: Running pip as the 'root' user can result in broken permissions and conflicting behaviour with the system package manager, possibly rendering your system unusable. It is recommended to use a virtual environment instead: https://pip.pypa.io/warnings/venv. Use the --root-user-action option if you know what you are doing and want to suppress this warning.\u001b[0m\u001b[33m\n",
      "\u001b[0m"
     ]
    }
   ],
   "source": [
    "if not is_ait_launch:\n",
    "    # get ait-sdk file name\n",
    "    from pathlib import Path\n",
    "    from glob import glob\n",
    "    import re\n",
    "    import os\n",
    "\n",
    "    current_dir = %pwd\n",
    "\n",
    "    ait_sdk_path = \"./ait_sdk-*-py3-none-any.whl\"\n",
    "    ait_sdk_list = glob(ait_sdk_path)\n",
    "    ait_sdk_name = os.path.basename(ait_sdk_list[-1])\n",
    "\n",
    "    # install ait-sdk\n",
    "    !pip install -q --upgrade pip\n",
    "    !pip install -q --no-deps --force-reinstall ./$ait_sdk_name"
   ]
  },
  {
   "cell_type": "markdown",
   "metadata": {
    "deletable": false,
    "editable": false
   },
   "source": [
    "### #3 Dependency Management"
   ]
  },
  {
   "cell_type": "markdown",
   "metadata": {
    "deletable": false,
    "editable": false
   },
   "source": [
    "#### #3-1 [uneditable]"
   ]
  },
  {
   "cell_type": "code",
   "execution_count": 3,
   "metadata": {
    "deletable": false,
    "editable": false
   },
   "outputs": [],
   "source": [
    "if not is_ait_launch:\n",
    "    from ait_sdk.common.files.ait_requirements_generator import AITRequirementsGenerator\n",
    "    requirements_generator = AITRequirementsGenerator()"
   ]
  },
  {
   "cell_type": "markdown",
   "metadata": {
    "deletable": false,
    "editable": false
   },
   "source": [
    "#### #3-2 [required]"
   ]
  },
  {
   "cell_type": "code",
   "execution_count": 4,
   "metadata": {},
   "outputs": [],
   "source": [
    "if not is_ait_launch:\n",
    "    requirements_generator.add_package('pandas','2.2.3')\n",
    "    requirements_generator.add_package('numpy','2.0.2')\n",
    "    requirements_generator.add_package('torch','2.6.0')\n",
    "    requirements_generator.add_package('h5py','3.12.1')\n",
    "    requirements_generator.add_package('matplotlib','3.9.4')\n",
    "    requirements_generator.add_package('opencv-python-headless','4.11.0.86')\n",
    "    requirements_generator.add_package('ultralytics', '8.3.89')\n",
    "    requirements_generator.add_package('torchmetrics', '1.6.2')\n",
    "    requirements_generator.add_package('pycocotools', '2.0.8')"
   ]
  },
  {
   "cell_type": "markdown",
   "metadata": {
    "deletable": false,
    "editable": false
   },
   "source": [
    "#### #3-3 [uneditable]"
   ]
  },
  {
   "cell_type": "code",
   "execution_count": 5,
   "metadata": {
    "deletable": false,
    "editable": false
   },
   "outputs": [
    {
     "name": "stdout",
     "output_type": "stream",
     "text": [
      "\u001b[33mWARNING: Running pip as the 'root' user can result in broken permissions and conflicting behaviour with the system package manager, possibly rendering your system unusable. It is recommended to use a virtual environment instead: https://pip.pypa.io/warnings/venv. Use the --root-user-action option if you know what you are doing and want to suppress this warning.\u001b[0m\u001b[33m\n",
      "\u001b[0m"
     ]
    }
   ],
   "source": [
    "if not is_ait_launch:\n",
    "    requirements_generator.add_package(f'./{ait_sdk_name}')\n",
    "    requirements_path = requirements_generator.create_requirements(current_dir)\n",
    "\n",
    "    !pip install -q -r $requirements_path "
   ]
  },
  {
   "cell_type": "markdown",
   "metadata": {
    "deletable": false,
    "editable": false
   },
   "source": [
    "### #4 Importing Libraries"
   ]
  },
  {
   "cell_type": "markdown",
   "metadata": {
    "deletable": false,
    "editable": false
   },
   "source": [
    "#### #4-1 [required]"
   ]
  },
  {
   "cell_type": "code",
   "execution_count": 6,
   "metadata": {},
   "outputs": [],
   "source": [
    "# import if you need modules cell\n",
    "\n",
    "from ultralytics import YOLO\n",
    "from torchmetrics.detection import MeanAveragePrecision\n",
    "from glob import glob\n",
    "import pandas as pd\n",
    "import csv\n",
    "import pandas as pd\n",
    "import matplotlib.pyplot as plt\n",
    "from pathlib import Path\n",
    "import h5py\n",
    "import torch\n",
    "import torch.nn.functional as F\n",
    "import numpy as np\n",
    "import cv2"
   ]
  },
  {
   "cell_type": "markdown",
   "metadata": {
    "deletable": false,
    "editable": false
   },
   "source": [
    "#### #4-2 [uneditable]"
   ]
  },
  {
   "cell_type": "code",
   "execution_count": 7,
   "metadata": {
    "deletable": false,
    "editable": false
   },
   "outputs": [],
   "source": [
    "# must use modules\n",
    "from os import path\n",
    "import shutil  # do not remove\n",
    "from ait_sdk.common.files.ait_input import AITInput  # do not remove\n",
    "from ait_sdk.common.files.ait_output import AITOutput  # do not remove\n",
    "from ait_sdk.common.files.ait_manifest import AITManifest  # do not remove\n",
    "from ait_sdk.develop.ait_path_helper import AITPathHelper  # do not remove\n",
    "from ait_sdk.utils.logging import get_logger, log, get_log_path  # do not remove\n",
    "from ait_sdk.develop.annotation import measures, resources, downloads, ait_main  # do not remove\n",
    "# must use modules"
   ]
  },
  {
   "cell_type": "markdown",
   "metadata": {
    "deletable": false,
    "editable": false
   },
   "source": [
    "### #5 Manifest Generation"
   ]
  },
  {
   "cell_type": "markdown",
   "metadata": {
    "deletable": false,
    "editable": false
   },
   "source": [
    "[required]"
   ]
  },
  {
   "cell_type": "code",
   "execution_count": 8,
   "metadata": {},
   "outputs": [],
   "source": [
    "if not is_ait_launch:\n",
    "    from ait_sdk.common.files.ait_manifest_generator import AITManifestGenerator\n",
    "    manifest_genenerator = AITManifestGenerator(current_dir)\n",
    "    manifest_genenerator.set_ait_name('eval_model_yolo_detect_robustness')\n",
    "    manifest_genenerator.set_ait_description('YOLOの物体検出モデルに対しL∞/L2制約のもとで敵対的摂動を適用し、その影響を測定・評価する。摂動量ごとの敵対攻撃によってモデルの精度(mAP)の低下率と未検出(FNR)の増加率を算出し、推移を可視化することで攻撃に対するモデルの脆弱性を明らかにする。攻撃手法はDPatchを使用する。 \\n $mAP_{drop}=(1-\\frac{mAP_{adv}}{mAP_{org}})*100$ \\n $FNR_{increase}=(\\frac{FNR_{adv}}{FNR_{org}}-1)*100$\\n※注意：処理対象の画像が200枚を超えると実行できない場合があります。\\n 実行環境（参考）\\n - ホストマシンの仕様：\\n     - プロセッサ：11th Gen Intel(R) Core(TM) i7-11800H @ 2.3GHz\\n     - 実装RAM：32.0GB(31.7 GB使用可能)\\n - Dockerの実行環境(docker stats 出力一部)：\\n     - メモリの使用量 ：13.08GiB / 15.62GiB\\n     - CPU 使用率：778.49%\\nこの環境では画像が200枚を超えると処理不可が大きくなり、メモリ不足またはCPU過負荷により実行できませんでした。処理枚数を減らすか、よりリソースの多い環境での実行を推奨します。')\n",
    "    manifest_genenerator.set_ait_source_repository('https://github.com/aistairc/Qunomon_AIT_eval_model_yolo_detect_robustness')\n",
    "    manifest_genenerator.set_ait_version('0.0')\n",
    "    manifest_genenerator.add_ait_licenses('Apache License Version 2.0')\n",
    "    manifest_genenerator.add_ait_keywords('yolo')\n",
    "    manifest_genenerator.add_ait_keywords('object detect')\n",
    "    manifest_genenerator.add_ait_keywords('mAP')\n",
    "    manifest_genenerator.add_ait_keywords('FNR')\n",
    "    manifest_genenerator.add_ait_keywords('robustness')\n",
    "    manifest_genenerator.add_ait_keywords('image')\n",
    "    manifest_genenerator.set_ait_quality('https://ait-hub.pj.aist.go.jp/ait-hub/api/0.0.1/qualityDimensions/機械学習品質マネジメントガイドライン第三版/C-2機械学習モデルの安定性')\n",
    "    #### Inventories\n",
    "    inventory_requirement_dataset = manifest_genenerator.format_ait_inventory_requirement(format_=['h5'])\n",
    "    manifest_genenerator.add_ait_inventories(name='test_dataset', \n",
    "                                             type_='dataset', \n",
    "                                             description='テスト用データセットを格納したHDF5ファイル。 HDF5ファイルの内部に2つのデータセットを用意する(1)モデルに入力される多次元配列を含むデータセット(データセット(1)の要素数はmodelの入力層の要素数と一致)(2)各画像データのyolo形式の正解ラベル（バウンディングボックスとクラス情報）を含むデータセット(データセット(2)の要素数はmodelの出力層の要素数と一致))', \n",
    "                                             requirement= inventory_requirement_dataset)\n",
    "    inventory_requirement_trained_model = manifest_genenerator.format_ait_inventory_requirement(format_=['*'])\n",
    "    manifest_genenerator.add_ait_inventories(name='trained_model',\n",
    "                                             type_='model',\n",
    "                                             description='TorchScript形式でexportしたYOLOのモデルデータ。入力と出力の要素数はtest_dataset inventoryと一致させる',\n",
    "                                             requirement=inventory_requirement_trained_model)\n",
    "    #### Parameters\n",
    "    manifest_genenerator.add_ait_parameters(name='test_image_dataset_name', \n",
    "                                            type_='str', \n",
    "                                            description='HDF5形式のテスト用ファイル内の画像データセット(1)の名前.要素数はmodelの入力層の要素数と一致', \n",
    "                                            default_val='image_dataset_name')\n",
    "    manifest_genenerator.add_ait_parameters(name='test_label_dataset_name', \n",
    "                                            type_='str', \n",
    "                                            description='HDF5形式のテスト用ファイル内のラベルデータセット(2)の名前.クラスラベル値の数はmodelの出力層の要素数と一致', \n",
    "                                            default_val='label_dataset_name')\n",
    "    manifest_genenerator.add_ait_parameters(name='delta_lower',\n",
    "                                            type_='float',\n",
    "                                            description='敵対的摂動δの範囲の下限.敵対的摂動δの範囲の上限よりも小さくする.',\n",
    "                                            default_val='0',\n",
    "                                            min_value='0')\n",
    "    manifest_genenerator.add_ait_parameters(name='delta_upper',\n",
    "                                            type_='int',\n",
    "                                            description='敵対的摂動δの範囲の上限.敵対的摂動δの範囲の下限よりも大きくする.',\n",
    "                                            default_val='10',\n",
    "                                            max_value='50')\n",
    "    manifest_genenerator.add_ait_parameters(name='delta_increment',\n",
    "                                            type_='int',\n",
    "                                            description='敵対的摂動δの増加量',\n",
    "                                            default_val='2',                                            \n",
    "                                            min_value='1',\n",
    "                                            max_value='5')\n",
    "    manifest_genenerator.add_ait_parameters(name='norm',\n",
    "                                            type_='str',\n",
    "                                            description='制約に使用するノルムは次の2パターン.2の場合L2ノルム、infの場合L∞ノルムを使用する',\n",
    "                                            default_val='2') \n",
    "    \n",
    "\n",
    "    #### Measures\n",
    "    manifest_genenerator.add_ait_measures(name='average_Percentage_decrease_in_mAP',\n",
    "                                          type_='float',\n",
    "                                          structure='single',\n",
    "                                          description='摂動量ごとのmAPの低下率の平均値.値が0に近いほどモデルは頑健である')\n",
    "    manifest_genenerator.add_ait_measures(name='average_Percentage_increase_in_FNR',\n",
    "                                          type_='float',\n",
    "                                          structure='single',\n",
    "                                          description='摂動量ごとのFNRの増加率の平均値.値が0に近いほどモデルは頑健である')\n",
    "    #### Resources\n",
    "    manifest_genenerator.add_ait_resources(name='Plot_Percentage_decrease_in_mAP',\n",
    "                                          type_='picture', \n",
    "                                          description='摂動量ごとのmAPの低下率の推移プロット')\n",
    "    manifest_genenerator.add_ait_resources(name='Plot_Percentage_increase_in_FNR',\n",
    "                                          type_='picture', \n",
    "                                          description='摂動量ごとのFNRの増加率の推移プロット')\n",
    "    manifest_genenerator.add_ait_resources(name='table_mAP_and_FNR',\n",
    "                                          type_='table', \n",
    "                                          description='摂動量ごとのmAPの低下率とFNRの増加率をまとめた表')\n",
    "    #### Downloads\n",
    "    manifest_genenerator.add_ait_downloads(name='Log', \n",
    "                                           description='AIT実行ログ')\n",
    "    manifest_path = manifest_genenerator.write()"
   ]
  },
  {
   "cell_type": "markdown",
   "metadata": {
    "deletable": false,
    "editable": false
   },
   "source": [
    "### #6 Prepare for the Input"
   ]
  },
  {
   "cell_type": "markdown",
   "metadata": {
    "deletable": false,
    "editable": false
   },
   "source": [
    "[required]"
   ]
  },
  {
   "cell_type": "code",
   "execution_count": 9,
   "metadata": {},
   "outputs": [],
   "source": [
    "if not is_ait_launch:\n",
    "    from ait_sdk.common.files.ait_input_generator import AITInputGenerator\n",
    "    input_generator = AITInputGenerator(manifest_path)\n",
    "    input_generator.add_ait_inventories(name='trained_model',\n",
    "                                        value='model/best.torchscript')\n",
    "    input_generator.add_ait_inventories(name='test_dataset',\n",
    "                                        value='data/bdd100k_test.h5')\n",
    "    input_generator.set_ait_params(\"test_image_dataset_name\", \"images\")\n",
    "    input_generator.set_ait_params(\"test_label_dataset_name\", \"yolo_labels\")\n",
    "    input_generator.set_ait_params(\"delta_upper\", \"10\")\n",
    "    input_generator.set_ait_params(\"delta_increment\", \"2\")\n",
    "    #input_generator.set_ait_params(\"norm\", \"inf\")\n",
    "    \n",
    "    input_generator.write()"
   ]
  },
  {
   "cell_type": "markdown",
   "metadata": {
    "deletable": false,
    "editable": false
   },
   "source": [
    "### #7 Initialization"
   ]
  },
  {
   "cell_type": "markdown",
   "metadata": {
    "deletable": false,
    "editable": false
   },
   "source": [
    "[uneditable]"
   ]
  },
  {
   "cell_type": "code",
   "execution_count": 10,
   "metadata": {
    "deletable": false,
    "editable": false
   },
   "outputs": [],
   "source": [
    "logger = get_logger()\n",
    "\n",
    "ait_manifest = AITManifest()\n",
    "ait_input = AITInput(ait_manifest)\n",
    "ait_output = AITOutput(ait_manifest)\n",
    "\n",
    "if is_ait_launch:\n",
    "    # launch from AIT\n",
    "    current_dir = path.dirname(path.abspath(__file__))\n",
    "    path_helper = AITPathHelper(argv=sys.argv, ait_input=ait_input, ait_manifest=ait_manifest, entry_point_dir=current_dir)\n",
    "else:\n",
    "    # launch from jupyter notebook\n",
    "    # ait.input.json make in input_dir\n",
    "    input_dir = '/usr/local/qai/mnt/ip/job_args/1/1'\n",
    "    current_dir = %pwd\n",
    "    path_helper = AITPathHelper(argv=['', input_dir], ait_input=ait_input, ait_manifest=ait_manifest, entry_point_dir=current_dir)\n",
    "\n",
    "ait_input.read_json(path_helper.get_input_file_path())\n",
    "ait_manifest.read_json(path_helper.get_manifest_file_path())\n",
    "\n",
    "### do not edit cell"
   ]
  },
  {
   "cell_type": "markdown",
   "metadata": {
    "deletable": false,
    "editable": false
   },
   "source": [
    "### #8 Function definitions"
   ]
  },
  {
   "cell_type": "markdown",
   "metadata": {
    "deletable": false,
    "editable": false
   },
   "source": [
    "[required]"
   ]
  },
  {
   "cell_type": "code",
   "execution_count": 11,
   "metadata": {},
   "outputs": [],
   "source": [
    "class CustomDPatch:\n",
    "    def __init__(self,model,patch_size,learning_rate=5,max_iter=100,norm_type=\"inf\",epsilon=5):\n",
    "        \"\"\"\n",
    "        DPatchの実装\n",
    "        parameters:\n",
    "            model:YOLOモデル\n",
    "            patch_size:パッチのサイズ（高さ,幅）\n",
    "            learning_rate:学習率\n",
    "            max_iter:最適化の反復回数\n",
    "            norm_type:L∞ またはL2ノルム（'inf'または'2'）\n",
    "            epsilon:摂動の最大許容値\n",
    "        \"\"\"\n",
    "        self.model=model\n",
    "        self.patch_size=patch_size\n",
    "        self.learning_rate=learning_rate\n",
    "        self.max_iter=max_iter\n",
    "        self.norm_type=norm_type\n",
    "        self.epsilon=epsilon\n",
    "\n",
    "    def apply_patch(self,image,patch,bbox):\n",
    "        \"\"\"\n",
    "        画像の特定の位置にDPatchを適用\n",
    "        parameters:\n",
    "            image:(H,W,3)の画像\n",
    "            patch:敵対的パッチ\n",
    "            bbox:適用対象のバウンディングボックスラベル\n",
    "        return:\n",
    "            patched_image:パッチ適用後の画像\n",
    "        \"\"\"\n",
    "        if patch is None:\n",
    "            return image.clone()\n",
    "\n",
    "        _,h,w= patch.shape\n",
    "        #パッチを適用する画像をコピー\n",
    "        patched_image=image.clone()\n",
    "\n",
    "        for x_min, y_min, x_max,y_max in bbox:\n",
    "            #パッチを配置する場所の設定\n",
    "            x_start= max(0,int((x_min+x_max)/2 -w/2))\n",
    "            y_start= max(0,int((y_min+y_max)/2 -h/2))\n",
    "            x_end =min(patched_image.shape[2],x_start+w)\n",
    "            y_end = min(patched_image.shape[1],y_start+h)\n",
    "            h_patch=max(1,y_end-y_start)\n",
    "            w_patch=max(1,x_end - x_start)\n",
    "            #パッチを画像内に適用\n",
    "            patched_image[:,y_start:y_end, x_start:x_end]=patch[:,: h_patch, : w_patch]\n",
    "        return patched_image\n",
    "        \n",
    "    def optimize_patch(self, images,bbox_all_labels):\n",
    "        \"\"\"\n",
    "        DPatchを最適化して敵対パッチを生成\n",
    "        parameters:\n",
    "            images:画像データ\n",
    "            bbox_all_labels:すべてのバウンディングボックスラベル\n",
    "        \"\"\"\n",
    "        \n",
    "        if self.epsilon==0:\n",
    "            return None\n",
    "        pre_total_loss=None\n",
    "        patch = torch.rand((3,self.patch_size[0],self.patch_size[1]),dtype=torch.float32)\n",
    "        for iteration in range(self.max_iter):\n",
    "            total_loss=torch.tensor(0.0,dtype=torch.float32)\n",
    "            patched_images=[]\n",
    "            #敵対パッチを適用した画像の生成\n",
    "            \n",
    "            for num,image in enumerate(images):\n",
    "                #patched_image=self.apply_patch(image.permute(1,2,0).numpy() *255,patch,bbox_all_labels[num][\"boxes\"].numpy())\n",
    "                patched_image=self.apply_patch(images[num],patch,bbox_all_labels[num][\"boxes\"])\n",
    "\n",
    "                patched_images.append(patched_image)\n",
    "            patched_images_tensor=torch.stack(patched_images)\n",
    "            \n",
    "            #敵対パッチを適用した画像に対する予測\n",
    "            with torch.no_grad():\n",
    "                results = self.model(patched_images_tensor,verbose=False)\n",
    "            for num ,result in enumerate(results):\n",
    "                pred_boxes = result.boxes.xyxy\n",
    "                pred_labels = result.boxes.cls\n",
    "                pred_scores = result.boxes.conf\n",
    "\n",
    "                gt_boxes=bbox_all_labels[num][\"boxes\"]\n",
    "                gt_labels=bbox_all_labels[num][\"labels\"]\n",
    "                loss=self.compute_loss(pred_boxes, pred_labels, pred_scores, gt_boxes, gt_labels)\n",
    "                if isinstance(loss,np.ndarray) or isinstance(loss,float):\n",
    "                    loss= torch.tensor(loss,dtype=torch.float32)\n",
    "                total_loss =total_loss + loss\n",
    "            #パッチの更新\n",
    "            with torch.no_grad():\n",
    "                if pre_total_loss is None:\n",
    "                    pre_total_loss = total_loss*0.8\n",
    "                grad_like = torch.sign((total_loss-pre_total_loss)/total_loss)*torch.abs((total_loss-pre_total_loss)/total_loss)\n",
    "                patch += self.learning_rate*grad_like#*torch.sign(patch)\n",
    "                #L∞ノルム制約\n",
    "                if self.norm_type==\"inf\":\n",
    "                    patch= torch.clamp(patch,0.5-self.epsilon/255,0.5+self.epsilon/255)\n",
    "                #L2ノルム制約\n",
    "                elif self.norm_type==\"2\":\n",
    "                    norm = torch.norm(patch-0.5)\n",
    "                    if norm > self.epsilon/255:\n",
    "                        patch += (patch-0.5)* (self.epsilon/255/norm)\n",
    "                patch = torch.clamp(patch, 0, 1)\n",
    "            pre_total_loss=total_loss\n",
    "            print(f\"Iteration {iteration+1}/{self.max_iter}, Loss {total_loss:.4f}\")\n",
    "        return patch\n",
    "\n",
    "    def compute_loss(self, pred_boxes, pred_labels, pred_scores, gt_boxes, gt_labels):\n",
    "        \"\"\"\n",
    "        予測結果と正解ラベル間のロスを計算\n",
    "        \"\"\"\n",
    "\n",
    "        loss=0\n",
    "        for gt_box, gt_label in zip(gt_boxes,gt_labels):\n",
    "            for pred_box, pred_label,pred_score in zip(pred_boxes, pred_labels,pred_scores):\n",
    "                if pred_label ==gt_label:\n",
    "                    iou=compute_iou(pred_box,gt_box)\n",
    "                    \n",
    "                    loss += iou*pred_score\n",
    "\n",
    "        return loss\n",
    "\n",
    "  "
   ]
  },
  {
   "cell_type": "code",
   "execution_count": 12,
   "metadata": {},
   "outputs": [],
   "source": [
    "@log(logger)\n",
    "def compute_iou(boxA,boxB):\n",
    "    \"\"\"\n",
    "    2つのバウンディングボックスのIoUを計算\n",
    "    \"\"\"\n",
    "    xA=max(boxA[0],boxB[0])\n",
    "    yA=max(boxA[1],boxB[1])\n",
    "    xB=min(boxA[2],boxB[2])\n",
    "    yB=min(boxA[3],boxB[3])\n",
    "    inter_area = max(0,xB-xA) * max(0,yB-yA)\n",
    "    boxA_area = (boxA[2]-boxA[0])*(boxA[3]-boxA[1])\n",
    "    boxB_area = (boxB[2]-boxB[0])*(boxB[3]-boxB[1])\n",
    "    total_area=boxA_area+boxB_area-inter_area\n",
    "    iou=inter_area/float(total_area+1e-6)\n",
    "    return iou"
   ]
  },
  {
   "cell_type": "code",
   "execution_count": 13,
   "metadata": {},
   "outputs": [],
   "source": [
    "@log(logger)\n",
    "def yolo_to_bbox(yolo_data_dict,img_width=640,img_height=640):\n",
    "    \"\"\"\n",
    "    YOLO用の形式のデータを（x1,y1,x2,y2）に変換する関数\n",
    "    \"\"\"    \n",
    "    bbox_all_labels ={}\n",
    "    for image_id, yolo_data in yolo_data_dict.items():\n",
    "        bbox_labels = []\n",
    "        cls_labels = []\n",
    "        for data in yolo_data:\n",
    "            cls_id, (x_center, y_center, width, height) = data[\"class_id\"],data[\"bbox\"]\n",
    "            x_min = int((x_center - width / 2)*img_width)\n",
    "            y_min = int((y_center - height / 2)*img_height)\n",
    "            x_max = int((x_center + width / 2)*img_width)\n",
    "            y_max = int((y_center + height / 2)*img_height)\n",
    "            bbox_labels.append([x_min,y_min,x_max,y_max])\n",
    "            cls_labels.append(cls_id)\n",
    "        bbox_all_labels[image_id]={\n",
    "            \"boxes\":torch.tensor(bbox_labels),\n",
    "            \"labels\":torch.tensor(cls_labels)\n",
    "        }\n",
    "    return bbox_all_labels\n",
    "\n",
    "@log(logger)\n",
    "def decode_all_labels(yolo_labels):\n",
    "    \"\"\"\n",
    "    YOLO用のラベルデータをリストに変換する関数\n",
    "    \"\"\"\n",
    "    decoded_all_labels={}\n",
    "    for num,yolo_label in enumerate(yolo_labels):\n",
    "        decoded_label = yolo_label.decode(\"utf-8\").strip()\n",
    "        label_lines = decoded_label.split(\"\\n\")\n",
    "        #クラスラベルとバウンディングボックスを格納した辞書を作成\n",
    "        yolo_data = [{\"class_id\":int(line.split()[0]),\n",
    "                      \"bbox\": list(map(float,line.split()[1:]))} for line in label_lines]\n",
    "        decoded_all_labels[num]=yolo_data\n",
    "    return decoded_all_labels"
   ]
  },
  {
   "cell_type": "code",
   "execution_count": 14,
   "metadata": {},
   "outputs": [],
   "source": [
    "@log(logger)\n",
    "def culculate_map_fnr(model,images,labels,threshold):\n",
    "    \"\"\"\n",
    "    mAPとFNRを計算する関数\n",
    "    \"\"\"\n",
    "    metric = MeanAveragePrecision(iou_type=\"bbox\")\n",
    "    total_objects = 0\n",
    "    false_nagatives = 0\n",
    "    iou_threshold=threshold\n",
    "    for num,result in enumerate(model(images,verbose=False)):\n",
    "        #予測したバウンディングボックスとクラスラベルと信頼度の取得\n",
    "        pred_boxes = result.boxes.xyxy.cpu()\n",
    "        pred_scores= result.boxes.conf.cpu()\n",
    "        pred_labels=result.boxes.cls.cpu().to(torch.int64)\n",
    "        #正解ラベルからバウンディングボックスとクラスラベルの取得\n",
    "        gt_boxes, gt_labels = labels[num][\"boxes\"],labels[num][\"labels\"]\n",
    "        \n",
    "        metric.update(\n",
    "            preds=[{\"boxes\":pred_boxes, \"scores\":pred_scores, \"labels\":pred_labels}],\n",
    "            target=[{\"boxes\":gt_boxes, \"labels\":gt_labels}]\n",
    "        )\n",
    "        #オブジェクト数の取得\n",
    "        gt_count=len(gt_boxes)\n",
    "        #閾値以上のIouで検出した物体の数の取得\n",
    "        detected_count=sum([any(compute_iou(boxA=pred_box,boxB=gt_box)>=iou_threshold for pred_box in pred_boxes) for gt_box in gt_boxes])\n",
    "        #閾値以上のIouで検出できなかった物体の数\n",
    "        false_nagatives += gt_count - detected_count\n",
    "        total_objects += gt_count\n",
    "    #ｍAPの算出\n",
    "    mAP=metric.compute()[\"map\"]\n",
    "    #FNRの算出\n",
    "    FNR=false_nagatives/total_objects\n",
    "    return mAP , FNR"
   ]
  },
  {
   "cell_type": "code",
   "execution_count": 15,
   "metadata": {},
   "outputs": [],
   "source": [
    "@log(logger)\n",
    "@resources(ait_output, path_helper, 'Plot_Percentage_decrease_in_mAP','Plot_Percentage_decrease_in_mAP.jpg')\n",
    "def Percentage_decrease_in_mAP_plot(deltas,rate_list,file_path: str=None):\n",
    "    \"\"\"\n",
    "    mAPの低下率のプロットを表示する関数\n",
    "    parameter:\n",
    "        deltas:敵対的摂動δのリスト\n",
    "        rate_list:mAPの低下率のリスト\n",
    "    \"\"\"\n",
    "\n",
    "    plt.figure(figsize=(8,6))\n",
    "    plt.plot(deltas,rate_list,marker='o',linestyle='-',color='b')\n",
    "    plt.xlabel(\"delta\")\n",
    "    plt.title(\"Transition of Percentage decrease in mAP\")\n",
    "    plt.ylabel(\"Percentage decrease in mAP\")\n",
    "    plt.grid(True)\n",
    "    plt.savefig(file_path)\n",
    "    plt.show()\n",
    "    \n",
    "    return file_path"
   ]
  },
  {
   "cell_type": "code",
   "execution_count": 16,
   "metadata": {},
   "outputs": [],
   "source": [
    "@log(logger)\n",
    "@resources(ait_output, path_helper, 'Plot_Percentage_increase_in_FNR','Plot_Percentage_increase_in_FNR.jpg')\n",
    "def Percentage_increase_in_FNR_plot(deltas,rate_list,file_path: str=None):\n",
    "    \"\"\"\n",
    "    FNRの増加率をプロットを表示する関数\n",
    "    parameter:\n",
    "        deltas:敵対的摂動δのリスト\n",
    "        rate_list:FNRの増加率のリスト\n",
    "    \"\"\"\n",
    "\n",
    "    plt.figure(figsize=(8,6))\n",
    "    plt.plot(deltas,rate_list,marker='o',linestyle='-',color='b')\n",
    "    plt.xlabel(\"delta\")\n",
    "    plt.title(\"Transition of Percentage_increase_in_FNR\")\n",
    "    plt.ylabel(\"Percentage_increase_in_FNR\")\n",
    "    plt.grid(True)\n",
    "    plt.savefig(file_path)\n",
    "    plt.show()\n",
    "    \n",
    "    return file_path"
   ]
  },
  {
   "cell_type": "code",
   "execution_count": 17,
   "metadata": {},
   "outputs": [],
   "source": [
    "@log(logger)\n",
    "@resources(ait_output, path_helper, 'table_mAP_and_FNR','table_mAP_and_FNR.csv')\n",
    "def measurement_to_csv(deltas,mAP_drop_rate_list,FNR_increase_rate_list,file_path: str=None):\n",
    "    \"\"\"\n",
    "    摂動量ごとのmAPの低下率とFNRの増加率をcsvとして出力する関数\n",
    "    \"\"\"\n",
    "    df = pd.DataFrame(\n",
    "    {\"deltas\":deltas,\n",
    "     \"mAP_drop_rate\":mAP_drop_rate_list,\n",
    "     \"FNR_increase_rate\":FNR_increase_rate_list}\n",
    "    )\n",
    "    df.to_csv(file_path,index=False)\n",
    "    return file_path\n",
    "    "
   ]
  },
  {
   "cell_type": "code",
   "execution_count": 18,
   "metadata": {},
   "outputs": [],
   "source": [
    "@log(logger)\n",
    "@measures(ait_output, 'average_Percentage_decrease_in_mAP')\n",
    "def average_map(mAP_drop_rate_list):\n",
    "    \"\"\"\n",
    "    mAPの低下率の平均を出力する関数\n",
    "    \"\"\"\n",
    "    return np.mean(mAP_drop_rate_list)\n"
   ]
  },
  {
   "cell_type": "code",
   "execution_count": 19,
   "metadata": {},
   "outputs": [],
   "source": [
    "@log(logger)\n",
    "@measures(ait_output, 'average_Percentage_increase_in_FNR')\n",
    "def average_fnr(FNR_increase_rate_list):\n",
    "    \"\"\"\n",
    "    FNRの増加率の平均を出力する関数\n",
    "    \"\"\"\n",
    "    return np.mean(FNR_increase_rate_list)"
   ]
  },
  {
   "cell_type": "code",
   "execution_count": 20,
   "metadata": {},
   "outputs": [],
   "source": [
    "@log(logger)\n",
    "@downloads(ait_output, path_helper, 'Log', 'ait.log')\n",
    "def move_log(file_path: str=None) -> str:\n",
    "    shutil.move(get_log_path(), file_path)"
   ]
  },
  {
   "cell_type": "markdown",
   "metadata": {
    "deletable": false,
    "editable": false
   },
   "source": [
    "### #9 Main Algorithms"
   ]
  },
  {
   "cell_type": "markdown",
   "metadata": {
    "deletable": false,
    "editable": false
   },
   "source": [
    "[required]"
   ]
  },
  {
   "cell_type": "code",
   "execution_count": 21,
   "metadata": {},
   "outputs": [],
   "source": [
    "@log(logger)\n",
    "@ait_main(ait_output, path_helper, is_ait_launch)\n",
    "def main() -> None:\n",
    "    #テストデータの読み込み\n",
    "    test_h5 = ait_input.get_inventory_path('test_dataset')\n",
    "    image_dataset_name = ait_input.get_method_param_value('test_image_dataset_name')\n",
    "    label_dataset_name = ait_input.get_method_param_value('test_label_dataset_name')\n",
    "    #モデルの読み込み\n",
    "    trained_model = ait_input.get_inventory_path('trained_model')\n",
    "    try:\n",
    "        model = YOLO(trained_model)\n",
    "    except Exception as e:\n",
    "        print(e)\n",
    "    with h5py.File(test_h5,\"r\") as h5:\n",
    "        yolo_labels = np.array(h5[label_dataset_name][:200])\n",
    "        images=np.array(h5[image_dataset_name][:200])\n",
    "    \n",
    "    #実行確認用に枚数を制限\n",
    "    #num_images=600\n",
    "    #images=org_images[:num_images]\n",
    "    #イメージの高さと幅を取得\n",
    "    _, image_height, image_width, _ = images.shape\n",
    "    #yolo用のラベルを変換\n",
    "    decoded_labels = decode_all_labels(yolo_labels)\n",
    "    bbox_all_labels = yolo_to_bbox(decoded_labels,img_width=image_width,img_height=image_height)\n",
    "    #画像の前処理\n",
    "    norm_images=images.astype(np.float32)/255\n",
    "    norm_images_t = np.transpose(norm_images,(0,3,1,2))\n",
    "    norm_images_tensor = torch.from_numpy(norm_images_t).float()\n",
    "    #攻撃前の画像のmAPとFNRの算出\n",
    "    mAP_org, FNR_org= culculate_map_fnr(model,norm_images_tensor,bbox_all_labels,threshold=0.5)\n",
    "    #攻撃後のmAPとFNRを格納するリスト\n",
    "    mAP_patched_list=[]\n",
    "    FNR_patched_list=[]\n",
    "    #敵対的摂動δの範囲の設定\n",
    "    delta_lower=ait_input.get_method_param_value('delta_lower')\n",
    "    delta_upper=ait_input.get_method_param_value('delta_upper')\n",
    "    delta_increment=ait_input.get_method_param_value('delta_increment')\n",
    "    if delta_upper < delta_lower:\n",
    "        raise ValueError(\"delta_upper is smaller than delta_lower\")\n",
    "    else:\n",
    "        deltas = np.arange(delta_lower,delta_upper+delta_increment,delta_increment)\n",
    "    \n",
    "    #normの設定\n",
    "    norm =ait_input.get_method_param_value('norm')\n",
    "    #摂動ごとのmAPとFNRの計算\n",
    "    for delta in deltas:\n",
    "        #DPatchの初期化\n",
    "        dpatch = CustomDPatch(model,patch_size=(20,20),learning_rate=0.1,norm_type=norm,epsilon=delta,max_iter=10)\n",
    "        #DPatchの最適化\n",
    "        optimized_patch=dpatch.optimize_patch(norm_images_tensor,bbox_all_labels)\n",
    "        patched_images=[]\n",
    "        #DPatchを適用した画像の保存\n",
    "        for num in range(len(images)):\n",
    "            patched_image= dpatch.apply_patch(norm_images_tensor[num],optimized_patch,bbox_all_labels[num][\"boxes\"].numpy())\n",
    "            patched_images.append(patched_image)\n",
    "        patched_images_tensor=torch.stack(patched_images)\n",
    "        patched_images_tensor=patched_images_tensor.to(dtype=torch.float32)\n",
    "\n",
    "        #patchを適用した画像のmAPとFNRの計算\n",
    "        mAP_patched,FNR_patched=culculate_map_fnr(model,patched_images_tensor,bbox_all_labels,threshold=0.5)\n",
    "        #mAPとFNRの保存\n",
    "        mAP_patched_list.append(mAP_patched)\n",
    "        FNR_patched_list.append(FNR_patched)\n",
    "    #mAPの低下率とFNRの増加率を保存するリスト\n",
    "    mAP_drop_rate_list=[]\n",
    "    FNR_increase_rate_list=[]\n",
    "    #mAPの低下率とFNRの増加率を計算\n",
    "    for mAP_patched,FNR_patched in zip(mAP_patched_list,FNR_patched_list):\n",
    "        drop_rate=(mAP_org -mAP_patched)/mAP_org *100\n",
    "        increase_rate=(FNR_patched - FNR_org)/FNR_org *100\n",
    "        mAP_drop_rate_list.append(drop_rate)\n",
    "        FNR_increase_rate_list.append(increase_rate)\n",
    "    #mAPの低下率とFNRの増加率をプロット\n",
    "    Percentage_decrease_in_mAP_plot(deltas,mAP_drop_rate_list)\n",
    "    Percentage_increase_in_FNR_plot(deltas,FNR_increase_rate_list)\n",
    "    #mAPの低下率の平均とFNRの増加率の平均を計算\n",
    "    average_fnr(FNR_increase_rate_list)\n",
    "    average_map(mAP_drop_rate_list)\n",
    "    #摂動量ごとのmAPの低下率とFNRの増加率をcsv形式に出力\n",
    "    measurement_to_csv(deltas,mAP_drop_rate_list,FNR_increase_rate_list)\n",
    "\n",
    "    move_log()     "
   ]
  },
  {
   "cell_type": "markdown",
   "metadata": {
    "deletable": false,
    "editable": false
   },
   "source": [
    "### #10 Entry point"
   ]
  },
  {
   "cell_type": "markdown",
   "metadata": {
    "deletable": false,
    "editable": false
   },
   "source": [
    "[uneditable]"
   ]
  },
  {
   "cell_type": "code",
   "execution_count": 22,
   "metadata": {
    "deletable": false,
    "editable": false
   },
   "outputs": [
    {
     "name": "stdout",
     "output_type": "stream",
     "text": [
      "WARNING ⚠️ Unable to automatically guess model task, assuming 'task=detect'. Explicitly define task for your model, i.e. 'task=detect', 'segment', 'classify','pose' or 'obb'.\n",
      "Loading /usr/local/qai/inventory/model/best.torchscript for TorchScript inference...\n",
      "Iteration 1/10, Loss 809.2544\n",
      "Iteration 2/10, Loss 807.5643\n",
      "Iteration 3/10, Loss 807.8484\n",
      "Iteration 4/10, Loss 808.0437\n",
      "Iteration 5/10, Loss 807.8077\n",
      "Iteration 6/10, Loss 807.7555\n",
      "Iteration 7/10, Loss 807.6281\n",
      "Iteration 8/10, Loss 808.0120\n",
      "Iteration 9/10, Loss 808.2578\n",
      "Iteration 10/10, Loss 808.4525\n",
      "Iteration 1/10, Loss 816.3791\n",
      "Iteration 2/10, Loss 816.5816\n",
      "Iteration 3/10, Loss 816.5818\n",
      "Iteration 4/10, Loss 816.5045\n",
      "Iteration 5/10, Loss 816.3149\n",
      "Iteration 6/10, Loss 816.2527\n",
      "Iteration 7/10, Loss 816.2031\n",
      "Iteration 8/10, Loss 816.0187\n",
      "Iteration 9/10, Loss 816.2634\n",
      "Iteration 10/10, Loss 815.8866\n",
      "Iteration 1/10, Loss 828.4263\n",
      "Iteration 2/10, Loss 826.7871\n",
      "Iteration 3/10, Loss 826.8448\n",
      "Iteration 4/10, Loss 827.0215\n",
      "Iteration 5/10, Loss 827.3555\n",
      "Iteration 6/10, Loss 827.9812\n",
      "Iteration 7/10, Loss 828.2607\n",
      "Iteration 8/10, Loss 827.7928\n",
      "Iteration 9/10, Loss 827.8682\n",
      "Iteration 10/10, Loss 827.6816\n",
      "Iteration 1/10, Loss 782.2171\n",
      "Iteration 2/10, Loss 784.5007\n",
      "Iteration 3/10, Loss 784.1221\n",
      "Iteration 4/10, Loss 783.8306\n",
      "Iteration 5/10, Loss 783.0726\n",
      "Iteration 6/10, Loss 782.9274\n",
      "Iteration 7/10, Loss 782.1664\n",
      "Iteration 8/10, Loss 782.2642\n",
      "Iteration 9/10, Loss 782.2944\n",
      "Iteration 10/10, Loss 781.4577\n",
      "Iteration 1/10, Loss 812.1841\n",
      "Iteration 2/10, Loss 812.9145\n",
      "Iteration 3/10, Loss 812.1894\n",
      "Iteration 4/10, Loss 811.9066\n",
      "Iteration 5/10, Loss 811.2792\n",
      "Iteration 6/10, Loss 811.7270\n",
      "Iteration 7/10, Loss 812.1371\n",
      "Iteration 8/10, Loss 812.0267\n",
      "Iteration 9/10, Loss 810.9754\n",
      "Iteration 10/10, Loss 811.1955\n"
     ]
    },
    {
     "data": {
      "image/png": "[encoded data removed]",
      "text/plain": [
       "<Figure size 800x600 with 1 Axes>"
      ]
     },
     "metadata": {},
     "output_type": "display_data"
    },
    {
     "data": {
      "image/png": "[encoded data removed]",
      "text/plain": [
       "<Figure size 800x600 with 1 Axes>"
      ]
     },
     "metadata": {},
     "output_type": "display_data"
    }
   ],
   "source": [
    "if __name__ == '__main__':\n",
    "    main()"
   ]
  },
  {
   "cell_type": "markdown",
   "metadata": {
    "deletable": false,
    "editable": false
   },
   "source": [
    "### #11 License"
   ]
  },
  {
   "cell_type": "markdown",
   "metadata": {
    "deletable": false,
    "editable": false
   },
   "source": [
    "[required]"
   ]
  },
  {
   "cell_type": "code",
   "execution_count": 23,
   "metadata": {},
   "outputs": [],
   "source": [
    "ait_owner='AIST'\n",
    "ait_creation_year='2025'"
   ]
  },
  {
   "cell_type": "markdown",
   "metadata": {
    "deletable": false,
    "editable": false
   },
   "source": [
    "### #12 Deployment"
   ]
  },
  {
   "cell_type": "markdown",
   "metadata": {
    "deletable": false,
    "editable": false
   },
   "source": [
    "[uneditable] "
   ]
  },
  {
   "cell_type": "code",
   "execution_count": 24,
   "metadata": {
    "deletable": false,
    "editable": false
   },
   "outputs": [],
   "source": [
    "if not is_ait_launch:\n",
    "    from ait_sdk.deploy import prepare_deploy\n",
    "    from ait_sdk.license.license_generator import LicenseGenerator\n",
    "    \n",
    "    current_dir = %pwd\n",
    "    prepare_deploy(ait_sdk_name, current_dir, requirements_path)\n",
    "    \n",
    "    # output License.txt\n",
    "    license_generator = LicenseGenerator()\n",
    "    license_generator.write('../top_dir/LICENSE.txt', ait_creation_year, ait_owner)\n"
   ]
  },
  {
   "cell_type": "code",
   "execution_count": null,
   "metadata": {},
   "outputs": [],
   "source": []
  }
 ],
 "metadata": {
  "celltoolbar": "Edit Metadata",
  "kernelspec": {
   "display_name": "Python 3 (ipykernel)",
   "language": "python",
   "name": "python3"
  },
  "language_info": {
   "codemirror_mode": {
    "name": "ipython",
    "version": 3
   },
   "file_extension": ".py",
   "mimetype": "text/x-python",
   "name": "python",
   "nbconvert_exporter": "python",
   "pygments_lexer": "ipython3",
   "version": "3.10.16"
  },
  "vscode": {
   "interpreter": {
    "hash": "cc00c6a56d87bd8bd7773e730c60ddfdb8804da6b7537df09499efbcf81630f7"
   }
  }
 },
 "nbformat": 4,
 "nbformat_minor": 4
}
